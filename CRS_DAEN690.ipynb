{
 "cells": [
  {
   "cell_type": "code",
   "execution_count": 1,
   "metadata": {},
   "outputs": [],
   "source": [
    "import pandas as pd"
   ]
  },
  {
   "cell_type": "code",
   "execution_count": 2,
   "metadata": {},
   "outputs": [],
   "source": [
    "nigeria1 = pd.read_excel(\"/Users/anushaeregowda/Documents/3rd Semester/DAEN690/Data/Nigeria_Part1.xlsx\")"
   ]
  },
  {
   "cell_type": "code",
   "execution_count": 3,
   "metadata": {},
   "outputs": [],
   "source": [
    "nigeria2 = pd.read_excel(\"/Users/anushaeregowda/Documents/3rd Semester/DAEN690/Data/Nigeria_HRR_100_Cards1_2.xlsx\")"
   ]
  },
  {
   "cell_type": "code",
   "execution_count": 4,
   "metadata": {},
   "outputs": [],
   "source": [
    "nigeria3 = pd.read_excel(\"/Users/anushaeregowda/Documents/3rd Semester/DAEN690/Data/Nigeria_HRR_100_cards3_4.xlsx\")"
   ]
  },
  {
   "cell_type": "code",
   "execution_count": 5,
   "metadata": {},
   "outputs": [],
   "source": [
    "NigeriaData = pd.concat([nigeria1,nigeria2,nigeria3],ignore_index=True,sort=False)"
   ]
  },
  {
   "cell_type": "code",
   "execution_count": 6,
   "metadata": {},
   "outputs": [],
   "source": [
    "qryTimeRedemption = pd.read_excel(\"/Users/anushaeregowda/Documents/3rd Semester/DAEN690/Data/qryTimeRedemption.xlsx\")"
   ]
  },
  {
   "cell_type": "code",
   "execution_count": 7,
   "metadata": {},
   "outputs": [],
   "source": [
    "qryTimeRedemption_cols =qryTimeRedemption[['interviewer_id', 'average_minutes_per_hh', 'date_of_registration']]"
   ]
  },
  {
   "cell_type": "code",
   "execution_count": 8,
   "metadata": {},
   "outputs": [],
   "source": [
    "NigeriaRedemption = pd.merge(NigeriaData, qryTimeRedemption_cols, how='left', left_on=['interviewer_id','date'], right_on = ['interviewer_id','date_of_registration'])"
   ]
  },
  {
   "cell_type": "code",
   "execution_count": 9,
   "metadata": {},
   "outputs": [],
   "source": [
    "NigeriaRedemption['date'] = NigeriaRedemption['date'].str.split(',').str[0]"
   ]
  },
  {
   "cell_type": "code",
   "execution_count": 10,
   "metadata": {},
   "outputs": [],
   "source": [
    "#Preprocessing the data from here \n",
    "pre_nigeria = NigeriaRedemption.copy()"
   ]
  },
  {
   "cell_type": "code",
   "execution_count": 11,
   "metadata": {},
   "outputs": [
    {
     "data": {
      "text/plain": [
       "(1362905, 21)"
      ]
     },
     "execution_count": 11,
     "metadata": {},
     "output_type": "execute_result"
    }
   ],
   "source": [
    "pre_nigeria.shape"
   ]
  },
  {
   "cell_type": "code",
   "execution_count": 12,
   "metadata": {},
   "outputs": [
    {
     "data": {
      "text/plain": [
       "distributionPoint                0\n",
       "date                             0\n",
       "state                            0\n",
       "lga                              0\n",
       "ward                             0\n",
       "hh_id                            0\n",
       "noOfCards                        0\n",
       "latitude                         0\n",
       "longitude                        0\n",
       "Origin                           0\n",
       "interviewer_id                   0\n",
       "dp_longitude                     0\n",
       "dp_latitude                      0\n",
       "Destination                      0\n",
       "distanceFromDPinMiles            0\n",
       "noOfCardRedeemed                 0\n",
       "Overall_redemption_rate          0\n",
       "average_rates_lga          1362905\n",
       "hh_redemption_rate               0\n",
       "average_minutes_per_hh        2452\n",
       "date_of_registration          2452\n",
       "dtype: int64"
      ]
     },
     "execution_count": 12,
     "metadata": {},
     "output_type": "execute_result"
    }
   ],
   "source": [
    "#Checking Null values\n",
    "pre_nigeria.isna().sum()"
   ]
  },
  {
   "cell_type": "code",
   "execution_count": 13,
   "metadata": {},
   "outputs": [
    {
     "data": {
      "text/plain": [
       "Int64Index([   3689,    3690,    6321,    6737,    6738,    6739,    6740,\n",
       "               6741,    6856,   10031,\n",
       "            ...\n",
       "            1353559, 1353560, 1353561, 1353578, 1353581, 1353582, 1353583,\n",
       "            1353585, 1353586, 1353587],\n",
       "           dtype='int64', length=2452)"
      ]
     },
     "execution_count": 13,
     "metadata": {},
     "output_type": "execute_result"
    }
   ],
   "source": [
    "#Just to confirm, show all the indexes with null values\n",
    "pre_nigeria['average_minutes_per_hh'][pre_nigeria['average_minutes_per_hh'].isna()].index"
   ]
  },
  {
   "cell_type": "code",
   "execution_count": 14,
   "metadata": {},
   "outputs": [
    {
     "data": {
      "text/plain": [
       "distributionPoint                           Eng Oladimeji House\n",
       "date                                                     Monday\n",
       "state                                                      Ogun\n",
       "lga                                                 Ado-Odo Ota\n",
       "ward                                                      Ota 1\n",
       "hh_id                                                    BHZJZN\n",
       "noOfCards                                                     4\n",
       "latitude                                                6.65721\n",
       "longitude                                               3.23646\n",
       "Origin                                          6.65721,3.23646\n",
       "interviewer_id             be18f593-092a-4adc-a902-d60d1c9a74c1\n",
       "dp_longitude                                            3.23388\n",
       "dp_latitude                                             6.65452\n",
       "Destination                                     6.65452,3.23388\n",
       "distanceFromDPinMiles                                      0.26\n",
       "noOfCardRedeemed                                              3\n",
       "Overall_redemption_rate                                   0.872\n",
       "average_rates_lga                                           NaN\n",
       "hh_redemption_rate                                           75\n",
       "average_minutes_per_hh                                      NaN\n",
       "date_of_registration                                        NaN\n",
       "Name: 3689, dtype: object"
      ]
     },
     "execution_count": 14,
     "metadata": {},
     "output_type": "execute_result"
    }
   ],
   "source": [
    "#Pick one index with null value and see their details\n",
    "pre_nigeria.loc[3689,:]"
   ]
  },
  {
   "cell_type": "code",
   "execution_count": 15,
   "metadata": {},
   "outputs": [
    {
     "data": {
      "text/html": [
       "<div>\n",
       "<style scoped>\n",
       "    .dataframe tbody tr th:only-of-type {\n",
       "        vertical-align: middle;\n",
       "    }\n",
       "\n",
       "    .dataframe tbody tr th {\n",
       "        vertical-align: top;\n",
       "    }\n",
       "\n",
       "    .dataframe thead th {\n",
       "        text-align: right;\n",
       "    }\n",
       "</style>\n",
       "<table border=\"1\" class=\"dataframe\">\n",
       "  <thead>\n",
       "    <tr style=\"text-align: right;\">\n",
       "      <th></th>\n",
       "      <th>lga</th>\n",
       "      <th>average_minutes_per_hh</th>\n",
       "    </tr>\n",
       "  </thead>\n",
       "  <tbody>\n",
       "    <tr>\n",
       "      <th>0</th>\n",
       "      <td>Abeokuta North</td>\n",
       "      <td>12.109489</td>\n",
       "    </tr>\n",
       "    <tr>\n",
       "      <th>1</th>\n",
       "      <td>Abeokuta South</td>\n",
       "      <td>10.075841</td>\n",
       "    </tr>\n",
       "    <tr>\n",
       "      <th>2</th>\n",
       "      <td>Ado-Odo Ota</td>\n",
       "      <td>12.011790</td>\n",
       "    </tr>\n",
       "    <tr>\n",
       "      <th>3</th>\n",
       "      <td>Ewekoro</td>\n",
       "      <td>8.701634</td>\n",
       "    </tr>\n",
       "    <tr>\n",
       "      <th>4</th>\n",
       "      <td>Ifo</td>\n",
       "      <td>12.044012</td>\n",
       "    </tr>\n",
       "    <tr>\n",
       "      <th>5</th>\n",
       "      <td>Ijebu East</td>\n",
       "      <td>12.429775</td>\n",
       "    </tr>\n",
       "    <tr>\n",
       "      <th>6</th>\n",
       "      <td>Ijebu North</td>\n",
       "      <td>12.987990</td>\n",
       "    </tr>\n",
       "    <tr>\n",
       "      <th>7</th>\n",
       "      <td>Ijebu North East</td>\n",
       "      <td>12.905637</td>\n",
       "    </tr>\n",
       "    <tr>\n",
       "      <th>8</th>\n",
       "      <td>Ijebu Ode</td>\n",
       "      <td>13.375143</td>\n",
       "    </tr>\n",
       "    <tr>\n",
       "      <th>9</th>\n",
       "      <td>Ikenne</td>\n",
       "      <td>12.257934</td>\n",
       "    </tr>\n",
       "    <tr>\n",
       "      <th>10</th>\n",
       "      <td>Imeko Afon</td>\n",
       "      <td>12.505222</td>\n",
       "    </tr>\n",
       "    <tr>\n",
       "      <th>11</th>\n",
       "      <td>Ipokia</td>\n",
       "      <td>10.025621</td>\n",
       "    </tr>\n",
       "    <tr>\n",
       "      <th>12</th>\n",
       "      <td>Obafemi Owode</td>\n",
       "      <td>11.157257</td>\n",
       "    </tr>\n",
       "    <tr>\n",
       "      <th>13</th>\n",
       "      <td>Odeda</td>\n",
       "      <td>12.118918</td>\n",
       "    </tr>\n",
       "    <tr>\n",
       "      <th>14</th>\n",
       "      <td>Odogbolu</td>\n",
       "      <td>15.370262</td>\n",
       "    </tr>\n",
       "    <tr>\n",
       "      <th>15</th>\n",
       "      <td>Ogun Waterside</td>\n",
       "      <td>13.405918</td>\n",
       "    </tr>\n",
       "    <tr>\n",
       "      <th>16</th>\n",
       "      <td>Remo North</td>\n",
       "      <td>12.546922</td>\n",
       "    </tr>\n",
       "    <tr>\n",
       "      <th>17</th>\n",
       "      <td>Sagamu</td>\n",
       "      <td>10.470506</td>\n",
       "    </tr>\n",
       "    <tr>\n",
       "      <th>18</th>\n",
       "      <td>Yewa North</td>\n",
       "      <td>12.197791</td>\n",
       "    </tr>\n",
       "    <tr>\n",
       "      <th>19</th>\n",
       "      <td>Yewa South</td>\n",
       "      <td>12.359356</td>\n",
       "    </tr>\n",
       "  </tbody>\n",
       "</table>\n",
       "</div>"
      ],
      "text/plain": [
       "                 lga  average_minutes_per_hh\n",
       "0     Abeokuta North               12.109489\n",
       "1     Abeokuta South               10.075841\n",
       "2        Ado-Odo Ota               12.011790\n",
       "3            Ewekoro                8.701634\n",
       "4                Ifo               12.044012\n",
       "5         Ijebu East               12.429775\n",
       "6        Ijebu North               12.987990\n",
       "7   Ijebu North East               12.905637\n",
       "8          Ijebu Ode               13.375143\n",
       "9             Ikenne               12.257934\n",
       "10        Imeko Afon               12.505222\n",
       "11            Ipokia               10.025621\n",
       "12     Obafemi Owode               11.157257\n",
       "13             Odeda               12.118918\n",
       "14          Odogbolu               15.370262\n",
       "15    Ogun Waterside               13.405918\n",
       "16        Remo North               12.546922\n",
       "17            Sagamu               10.470506\n",
       "18        Yewa North               12.197791\n",
       "19        Yewa South               12.359356"
      ]
     },
     "execution_count": 15,
     "metadata": {},
     "output_type": "execute_result"
    }
   ],
   "source": [
    "#Get the mean of average_mins_per_hh of every lga \n",
    "mean_value = pre_nigeria.groupby('lga',as_index=False)['average_minutes_per_hh'].mean()\n",
    "mean_value"
   ]
  },
  {
   "cell_type": "code",
   "execution_count": 16,
   "metadata": {},
   "outputs": [],
   "source": [
    "#Replacing null values of Average mins per household by mean, grouped by lga \n",
    "pre_nigeria['average_minutes_per_hh'] = pre_nigeria['average_minutes_per_hh'].fillna(pre_nigeria.groupby('lga')['average_minutes_per_hh'].transform('mean'))"
   ]
  },
  {
   "cell_type": "code",
   "execution_count": 17,
   "metadata": {},
   "outputs": [
    {
     "data": {
      "text/plain": [
       "distributionPoint                0\n",
       "date                             0\n",
       "state                            0\n",
       "lga                              0\n",
       "ward                             0\n",
       "hh_id                            0\n",
       "noOfCards                        0\n",
       "latitude                         0\n",
       "longitude                        0\n",
       "Origin                           0\n",
       "interviewer_id                   0\n",
       "dp_longitude                     0\n",
       "dp_latitude                      0\n",
       "Destination                      0\n",
       "distanceFromDPinMiles            0\n",
       "noOfCardRedeemed                 0\n",
       "Overall_redemption_rate          0\n",
       "average_rates_lga          1362905\n",
       "hh_redemption_rate               0\n",
       "average_minutes_per_hh           0\n",
       "date_of_registration          2452\n",
       "dtype: int64"
      ]
     },
     "execution_count": 17,
     "metadata": {},
     "output_type": "execute_result"
    }
   ],
   "source": [
    "pre_nigeria.isna().sum()"
   ]
  },
  {
   "cell_type": "code",
   "execution_count": 18,
   "metadata": {},
   "outputs": [
    {
     "data": {
      "text/plain": [
       "(1362905, 21)"
      ]
     },
     "execution_count": 18,
     "metadata": {},
     "output_type": "execute_result"
    }
   ],
   "source": [
    "pre_nigeria.shape"
   ]
  },
  {
   "cell_type": "code",
   "execution_count": 19,
   "metadata": {},
   "outputs": [],
   "source": [
    "#Removing Avergae mins per household to max 90 mins \n",
    "pre_nigeria=pre_nigeria[(pre_nigeria['average_minutes_per_hh'] <= 90)]"
   ]
  },
  {
   "cell_type": "code",
   "execution_count": 20,
   "metadata": {},
   "outputs": [],
   "source": [
    "#Removing distance >6 miles\n",
    "dfindexnames=pre_nigeria[(pre_nigeria['distanceFromDPinMiles'] > 6)].index"
   ]
  },
  {
   "cell_type": "code",
   "execution_count": 21,
   "metadata": {},
   "outputs": [],
   "source": [
    "dfindexnames\n",
    "pre_nigeria.drop(dfindexnames , inplace=True)"
   ]
  },
  {
   "cell_type": "code",
   "execution_count": 22,
   "metadata": {},
   "outputs": [],
   "source": [
    "#Adding Size of Family household \n",
    "pre_nigeria['size_of_hh'] = pre_nigeria['noOfCards']*2"
   ]
  },
  {
   "cell_type": "code",
   "execution_count": 23,
   "metadata": {},
   "outputs": [],
   "source": [
    "#Dropping Columns\n",
    "pre_nigeria  = pre_nigeria.drop([ 'distributionPoint','state', 'lga','ward', 'hh_id','latitude', 'longitude', 'Origin',\n",
    "                      'interviewer_id', 'dp_longitude','dp_latitude', 'Destination', 'noOfCardRedeemed', \n",
    "                      'Overall_redemption_rate','average_rates_lga','date_of_registration','noOfCards'], axis=1)"
   ]
  },
  {
   "cell_type": "code",
   "execution_count": 24,
   "metadata": {},
   "outputs": [
    {
     "data": {
      "text/html": [
       "<div>\n",
       "<style scoped>\n",
       "    .dataframe tbody tr th:only-of-type {\n",
       "        vertical-align: middle;\n",
       "    }\n",
       "\n",
       "    .dataframe tbody tr th {\n",
       "        vertical-align: top;\n",
       "    }\n",
       "\n",
       "    .dataframe thead th {\n",
       "        text-align: right;\n",
       "    }\n",
       "</style>\n",
       "<table border=\"1\" class=\"dataframe\">\n",
       "  <thead>\n",
       "    <tr style=\"text-align: right;\">\n",
       "      <th></th>\n",
       "      <th>date</th>\n",
       "      <th>distanceFromDPinMiles</th>\n",
       "      <th>hh_redemption_rate</th>\n",
       "      <th>average_minutes_per_hh</th>\n",
       "      <th>size_of_hh</th>\n",
       "    </tr>\n",
       "  </thead>\n",
       "  <tbody>\n",
       "    <tr>\n",
       "      <th>0</th>\n",
       "      <td>Sunday</td>\n",
       "      <td>0.13</td>\n",
       "      <td>75</td>\n",
       "      <td>13.71</td>\n",
       "      <td>8</td>\n",
       "    </tr>\n",
       "    <tr>\n",
       "      <th>1</th>\n",
       "      <td>Sunday</td>\n",
       "      <td>0.15</td>\n",
       "      <td>75</td>\n",
       "      <td>13.71</td>\n",
       "      <td>8</td>\n",
       "    </tr>\n",
       "    <tr>\n",
       "      <th>2</th>\n",
       "      <td>Friday</td>\n",
       "      <td>0.89</td>\n",
       "      <td>75</td>\n",
       "      <td>48.00</td>\n",
       "      <td>8</td>\n",
       "    </tr>\n",
       "    <tr>\n",
       "      <th>3</th>\n",
       "      <td>Sunday</td>\n",
       "      <td>0.57</td>\n",
       "      <td>75</td>\n",
       "      <td>15.00</td>\n",
       "      <td>8</td>\n",
       "    </tr>\n",
       "    <tr>\n",
       "      <th>4</th>\n",
       "      <td>Sunday</td>\n",
       "      <td>0.73</td>\n",
       "      <td>75</td>\n",
       "      <td>14.12</td>\n",
       "      <td>8</td>\n",
       "    </tr>\n",
       "  </tbody>\n",
       "</table>\n",
       "</div>"
      ],
      "text/plain": [
       "     date  distanceFromDPinMiles  hh_redemption_rate  average_minutes_per_hh  \\\n",
       "0  Sunday                   0.13                  75                   13.71   \n",
       "1  Sunday                   0.15                  75                   13.71   \n",
       "2  Friday                   0.89                  75                   48.00   \n",
       "3  Sunday                   0.57                  75                   15.00   \n",
       "4  Sunday                   0.73                  75                   14.12   \n",
       "\n",
       "   size_of_hh  \n",
       "0           8  \n",
       "1           8  \n",
       "2           8  \n",
       "3           8  \n",
       "4           8  "
      ]
     },
     "execution_count": 24,
     "metadata": {},
     "output_type": "execute_result"
    }
   ],
   "source": [
    "pre_nigeria.head()"
   ]
  },
  {
   "cell_type": "code",
   "execution_count": 25,
   "metadata": {},
   "outputs": [],
   "source": [
    "#Squaring columns for a better fit of the model\n",
    "pre_nigeria['distanceFromDPinMiles_SQR'] = pre_nigeria['distanceFromDPinMiles']**2\n",
    "pre_nigeria['average_minutes_per_hh_SQR'] = pre_nigeria['average_minutes_per_hh']**2\n",
    "pre_nigeria['size_of_hh_SQR'] = pre_nigeria['size_of_hh']**2"
   ]
  },
  {
   "cell_type": "code",
   "execution_count": 26,
   "metadata": {},
   "outputs": [],
   "source": [
    "pre_nigeria['Net_redemption'] = pre_nigeria['hh_redemption_rate'].apply(lambda x: 1 if x==100 else 0)"
   ]
  },
  {
   "cell_type": "code",
   "execution_count": 27,
   "metadata": {},
   "outputs": [],
   "source": [
    "pre_nigeria = pre_nigeria.drop(['hh_redemption_rate'], axis=1)"
   ]
  },
  {
   "cell_type": "code",
   "execution_count": 28,
   "metadata": {},
   "outputs": [],
   "source": [
    "#One Hot encoding\n",
    "pre_nigeria = pd.get_dummies(data=pre_nigeria, columns=['date'], drop_first=True)"
   ]
  },
  {
   "cell_type": "code",
   "execution_count": 29,
   "metadata": {},
   "outputs": [
    {
     "data": {
      "text/html": [
       "<div>\n",
       "<style scoped>\n",
       "    .dataframe tbody tr th:only-of-type {\n",
       "        vertical-align: middle;\n",
       "    }\n",
       "\n",
       "    .dataframe tbody tr th {\n",
       "        vertical-align: top;\n",
       "    }\n",
       "\n",
       "    .dataframe thead th {\n",
       "        text-align: right;\n",
       "    }\n",
       "</style>\n",
       "<table border=\"1\" class=\"dataframe\">\n",
       "  <thead>\n",
       "    <tr style=\"text-align: right;\">\n",
       "      <th></th>\n",
       "      <th>distanceFromDPinMiles</th>\n",
       "      <th>average_minutes_per_hh</th>\n",
       "      <th>size_of_hh</th>\n",
       "      <th>distanceFromDPinMiles_SQR</th>\n",
       "      <th>average_minutes_per_hh_SQR</th>\n",
       "      <th>size_of_hh_SQR</th>\n",
       "      <th>Net_redemption</th>\n",
       "      <th>date_Monday</th>\n",
       "      <th>date_Saturday</th>\n",
       "      <th>date_Sunday</th>\n",
       "      <th>date_Thursday</th>\n",
       "      <th>date_Tuesday</th>\n",
       "      <th>date_Wednesday</th>\n",
       "    </tr>\n",
       "  </thead>\n",
       "  <tbody>\n",
       "    <tr>\n",
       "      <th>0</th>\n",
       "      <td>0.13</td>\n",
       "      <td>13.71</td>\n",
       "      <td>8</td>\n",
       "      <td>0.0169</td>\n",
       "      <td>187.9641</td>\n",
       "      <td>64</td>\n",
       "      <td>0</td>\n",
       "      <td>0</td>\n",
       "      <td>0</td>\n",
       "      <td>1</td>\n",
       "      <td>0</td>\n",
       "      <td>0</td>\n",
       "      <td>0</td>\n",
       "    </tr>\n",
       "    <tr>\n",
       "      <th>1</th>\n",
       "      <td>0.15</td>\n",
       "      <td>13.71</td>\n",
       "      <td>8</td>\n",
       "      <td>0.0225</td>\n",
       "      <td>187.9641</td>\n",
       "      <td>64</td>\n",
       "      <td>0</td>\n",
       "      <td>0</td>\n",
       "      <td>0</td>\n",
       "      <td>1</td>\n",
       "      <td>0</td>\n",
       "      <td>0</td>\n",
       "      <td>0</td>\n",
       "    </tr>\n",
       "    <tr>\n",
       "      <th>2</th>\n",
       "      <td>0.89</td>\n",
       "      <td>48.00</td>\n",
       "      <td>8</td>\n",
       "      <td>0.7921</td>\n",
       "      <td>2304.0000</td>\n",
       "      <td>64</td>\n",
       "      <td>0</td>\n",
       "      <td>0</td>\n",
       "      <td>0</td>\n",
       "      <td>0</td>\n",
       "      <td>0</td>\n",
       "      <td>0</td>\n",
       "      <td>0</td>\n",
       "    </tr>\n",
       "    <tr>\n",
       "      <th>3</th>\n",
       "      <td>0.57</td>\n",
       "      <td>15.00</td>\n",
       "      <td>8</td>\n",
       "      <td>0.3249</td>\n",
       "      <td>225.0000</td>\n",
       "      <td>64</td>\n",
       "      <td>0</td>\n",
       "      <td>0</td>\n",
       "      <td>0</td>\n",
       "      <td>1</td>\n",
       "      <td>0</td>\n",
       "      <td>0</td>\n",
       "      <td>0</td>\n",
       "    </tr>\n",
       "    <tr>\n",
       "      <th>4</th>\n",
       "      <td>0.73</td>\n",
       "      <td>14.12</td>\n",
       "      <td>8</td>\n",
       "      <td>0.5329</td>\n",
       "      <td>199.3744</td>\n",
       "      <td>64</td>\n",
       "      <td>0</td>\n",
       "      <td>0</td>\n",
       "      <td>0</td>\n",
       "      <td>1</td>\n",
       "      <td>0</td>\n",
       "      <td>0</td>\n",
       "      <td>0</td>\n",
       "    </tr>\n",
       "  </tbody>\n",
       "</table>\n",
       "</div>"
      ],
      "text/plain": [
       "   distanceFromDPinMiles  average_minutes_per_hh  size_of_hh  \\\n",
       "0                   0.13                   13.71           8   \n",
       "1                   0.15                   13.71           8   \n",
       "2                   0.89                   48.00           8   \n",
       "3                   0.57                   15.00           8   \n",
       "4                   0.73                   14.12           8   \n",
       "\n",
       "   distanceFromDPinMiles_SQR  average_minutes_per_hh_SQR  size_of_hh_SQR  \\\n",
       "0                     0.0169                    187.9641              64   \n",
       "1                     0.0225                    187.9641              64   \n",
       "2                     0.7921                   2304.0000              64   \n",
       "3                     0.3249                    225.0000              64   \n",
       "4                     0.5329                    199.3744              64   \n",
       "\n",
       "   Net_redemption  date_Monday  date_Saturday  date_Sunday  date_Thursday  \\\n",
       "0               0            0              0            1              0   \n",
       "1               0            0              0            1              0   \n",
       "2               0            0              0            0              0   \n",
       "3               0            0              0            1              0   \n",
       "4               0            0              0            1              0   \n",
       "\n",
       "   date_Tuesday  date_Wednesday  \n",
       "0             0               0  \n",
       "1             0               0  \n",
       "2             0               0  \n",
       "3             0               0  \n",
       "4             0               0  "
      ]
     },
     "execution_count": 29,
     "metadata": {},
     "output_type": "execute_result"
    }
   ],
   "source": [
    "pre_nigeria.head()"
   ]
  },
  {
   "cell_type": "code",
   "execution_count": 30,
   "metadata": {},
   "outputs": [],
   "source": [
    "#End of preprocessing - copy to another variable for easier run\n",
    "nigeriaRedemption = pre_nigeria.copy()"
   ]
  },
  {
   "cell_type": "code",
   "execution_count": 31,
   "metadata": {},
   "outputs": [],
   "source": [
    "#Target Variable\n",
    "Y=nigeriaRedemption[\"Net_redemption\"]\n",
    "\n",
    "#Independent/Input Variables\n",
    "X=nigeriaRedemption.drop(columns = ['Net_redemption'])"
   ]
  },
  {
   "cell_type": "code",
   "execution_count": 32,
   "metadata": {},
   "outputs": [],
   "source": [
    "target_count=nigeriaRedemption['Net_redemption'].value_counts()"
   ]
  },
  {
   "cell_type": "code",
   "execution_count": 33,
   "metadata": {},
   "outputs": [
    {
     "data": {
      "text/plain": [
       "1    1125207\n",
       "0     203468\n",
       "Name: Net_redemption, dtype: int64"
      ]
     },
     "execution_count": 33,
     "metadata": {},
     "output_type": "execute_result"
    }
   ],
   "source": [
    "target_count"
   ]
  },
  {
   "cell_type": "code",
   "execution_count": 34,
   "metadata": {},
   "outputs": [],
   "source": [
    "X_Columns = X.columns"
   ]
  },
  {
   "cell_type": "code",
   "execution_count": 35,
   "metadata": {},
   "outputs": [],
   "source": [
    "#Oversampling(X, Y) -> X,Y\n",
    "#Train and Test Split(X,Y) -> X_train, X_test, y_train, y_test\n",
    "#Modelling\n",
    "#k fold"
   ]
  },
  {
   "cell_type": "code",
   "execution_count": 36,
   "metadata": {},
   "outputs": [
    {
     "name": "stdout",
     "output_type": "stream",
     "text": [
      "Before OverSampling, counts of label '1': 1125207\n",
      "Before OverSampling, counts of label '0': 203468 \n",
      "\n",
      "After OverSampling, the shape of train_X: (2250414, 12)\n",
      "After OverSampling, the shape of train_y: (2250414,) \n",
      "\n",
      "After OverSampling, counts of label '1': 1125207\n",
      "After OverSampling, counts of label '0': 1125207\n"
     ]
    }
   ],
   "source": [
    "#smote analysis\n",
    "print(\"Before OverSampling, counts of label '1': {}\".format(sum(Y == 1))) \n",
    "print(\"Before OverSampling, counts of label '0': {} \\n\".format(sum(Y == 0))) \n",
    "  \n",
    "# import SMOTE module from imblearn library \n",
    "# pip install imblearn (if you don't have imblearn in your system) \n",
    "from imblearn.over_sampling import SMOTE \n",
    "sm = SMOTE(random_state = 2) \n",
    "X, Y = sm.fit_sample(X, Y.ravel()) \n",
    "  \n",
    "print('After OverSampling, the shape of train_X: {}'.format(X.shape)) \n",
    "print('After OverSampling, the shape of train_y: {} \\n'.format(Y.shape)) \n",
    "  \n",
    "print(\"After OverSampling, counts of label '1': {}\".format(sum(Y == 1))) \n",
    "print(\"After OverSampling, counts of label '0': {}\".format(sum(Y == 0))) "
   ]
  },
  {
   "cell_type": "code",
   "execution_count": 37,
   "metadata": {},
   "outputs": [],
   "source": [
    "X = X.values"
   ]
  },
  {
   "cell_type": "code",
   "execution_count": 38,
   "metadata": {},
   "outputs": [
    {
     "data": {
      "text/plain": [
       "numpy.ndarray"
      ]
     },
     "execution_count": 38,
     "metadata": {},
     "output_type": "execute_result"
    }
   ],
   "source": [
    "type(X)"
   ]
  },
  {
   "cell_type": "code",
   "execution_count": 39,
   "metadata": {},
   "outputs": [
    {
     "data": {
      "text/plain": [
       "Index(['distanceFromDPinMiles', 'average_minutes_per_hh', 'size_of_hh',\n",
       "       'distanceFromDPinMiles_SQR', 'average_minutes_per_hh_SQR',\n",
       "       'size_of_hh_SQR', 'date_Monday', 'date_Saturday', 'date_Sunday',\n",
       "       'date_Thursday', 'date_Tuesday', 'date_Wednesday'],\n",
       "      dtype='object')"
      ]
     },
     "execution_count": 39,
     "metadata": {},
     "output_type": "execute_result"
    }
   ],
   "source": [
    "X_Columns"
   ]
  },
  {
   "cell_type": "code",
   "execution_count": 40,
   "metadata": {},
   "outputs": [
    {
     "name": "stdout",
     "output_type": "stream",
     "text": [
      "Number transactions X_train dataset:  (1575289, 12)\n",
      "Number transactions y_train dataset:  (1575289,)\n",
      "Number transactions X_test dataset:  (675125, 12)\n",
      "Number transactions y_test dataset:  (675125,)\n"
     ]
    }
   ],
   "source": [
    "# Split into Train and Test\n",
    "from sklearn.model_selection import train_test_split \n",
    "  \n",
    "# split into 70:30 ration \n",
    "X_train, X_test, y_train, y_test = train_test_split(X, Y, test_size = 0.3, random_state = 0,stratify = Y) \n",
    "  \n",
    "# describes info about train and test set \n",
    "print(\"Number transactions X_train dataset: \", X_train.shape) \n",
    "print(\"Number transactions y_train dataset: \", y_train.shape) \n",
    "print(\"Number transactions X_test dataset: \", X_test.shape) \n",
    "print(\"Number transactions y_test dataset: \", y_test.shape) "
   ]
  },
  {
   "cell_type": "code",
   "execution_count": 41,
   "metadata": {},
   "outputs": [],
   "source": [
    "# Load libraries - Modelling\n",
    "import numpy as np\n",
    "from sklearn import metrics\n",
    "from sklearn.model_selection import KFold, cross_val_score\n",
    "from sklearn.preprocessing import StandardScaler\n",
    "from sklearn.linear_model import LogisticRegression\n",
    "from sklearn.pipeline import Pipeline"
   ]
  },
  {
   "cell_type": "code",
   "execution_count": 42,
   "metadata": {},
   "outputs": [
    {
     "data": {
      "text/plain": [
       "0.5488865598422181"
      ]
     },
     "execution_count": 42,
     "metadata": {},
     "output_type": "execute_result"
    }
   ],
   "source": [
    "#k fold cross validation with  Logistic Regression\n",
    "pipeline_LR = Pipeline([('StandardScaler', StandardScaler()), \n",
    "                    ('LogisticRegression', LogisticRegression())])\n",
    "\n",
    "kf = KFold(n_splits=10, shuffle=True, random_state=1)\n",
    "# Do k-fold cross-validation\n",
    "cv_results = cross_val_score(pipeline_LR, # Pipeline\n",
    "                             X, # Feature matrix\n",
    "                             Y, # Target vector\n",
    "                             cv=kf, # Cross-validation technique\n",
    "                             scoring=\"accuracy\", # Loss function\n",
    "                             n_jobs=-1) # Use all CPU scores\n",
    "cv_results.mean()"
   ]
  },
  {
   "cell_type": "code",
   "execution_count": 43,
   "metadata": {},
   "outputs": [
    {
     "name": "stdout",
     "output_type": "stream",
     "text": [
      "Accuracy of logistic regression classifier on test set: 0.55\n"
     ]
    },
    {
     "name": "stderr",
     "output_type": "stream",
     "text": [
      "/opt/anaconda3/lib/python3.7/site-packages/sklearn/linear_model/_logistic.py:940: ConvergenceWarning: lbfgs failed to converge (status=1):\n",
      "STOP: TOTAL NO. of ITERATIONS REACHED LIMIT.\n",
      "\n",
      "Increase the number of iterations (max_iter) or scale the data as shown in:\n",
      "    https://scikit-learn.org/stable/modules/preprocessing.html\n",
      "Please also refer to the documentation for alternative solver options:\n",
      "    https://scikit-learn.org/stable/modules/linear_model.html#logistic-regression\n",
      "  extra_warning_msg=_LOGISTIC_SOLVER_CONVERGENCE_MSG)\n"
     ]
    }
   ],
   "source": [
    "logreg = LogisticRegression(max_iter = 100)\n",
    "logreg.fit(X_train, y_train)\n",
    "y_pred = logreg.predict(X_test)\n",
    "print('Accuracy of logistic regression classifier on test set: {:.2f}'.format(logreg.score(X_test, y_test)))"
   ]
  },
  {
   "cell_type": "code",
   "execution_count": 46,
   "metadata": {},
   "outputs": [
    {
     "name": "stdout",
     "output_type": "stream",
     "text": [
      "55.15289761155342\n",
      "ROC_AUC :  55.15290115604058\n"
     ]
    },
    {
     "data": {
      "image/png": "[encoded data removed]",
      "text/plain": [
       "<Figure size 432x288 with 1 Axes>"
      ]
     },
     "metadata": {
      "needs_background": "light"
     },
     "output_type": "display_data"
    }
   ],
   "source": [
    "from sklearn.metrics import roc_auc_score\n",
    "from sklearn.metrics import roc_curve, auc\n",
    "from sklearn.metrics import accuracy_score\n",
    "\n",
    "print(accuracy_score(y_test, y_pred)* 100)\n",
    "print(\"ROC_AUC : \", roc_auc_score(y_test, y_pred) * 100)\n",
    "\n",
    "# ROC Graph\n",
    "y_test_pred_score = logreg.predict_proba(X_test)\n",
    "preds = y_pred#y_test_pred_score[:,1]\n",
    "fpr, tpr, threshold = metrics.roc_curve(y_test, preds)\n",
    "roc_auc = metrics.auc(fpr, tpr)\n",
    "\n",
    "# method I: plt\n",
    "import matplotlib.pyplot as plt\n",
    "plt.title('Receiver Operating Characteristic')\n",
    "plt.plot(fpr, tpr, 'b', label = 'AUC = %0.2f' % roc_auc)\n",
    "plt.legend(loc = 'lower right')\n",
    "plt.plot([0, 1], [0, 1],'r--')\n",
    "plt.xlim([0, 1])\n",
    "plt.ylim([0, 1])\n",
    "plt.ylabel('True Positive Rate')\n",
    "plt.xlabel('False Positive Rate')\n",
    "plt.show()"
   ]
  },
  {
   "cell_type": "code",
   "execution_count": 47,
   "metadata": {},
   "outputs": [
    {
     "name": "stdout",
     "output_type": "stream",
     "text": [
      "              precision    recall  f1-score   support\n",
      "\n",
      "           0       0.55      0.53      0.54    337563\n",
      "           1       0.55      0.58      0.56    337562\n",
      "\n",
      "    accuracy                           0.55    675125\n",
      "   macro avg       0.55      0.55      0.55    675125\n",
      "weighted avg       0.55      0.55      0.55    675125\n",
      "\n"
     ]
    }
   ],
   "source": [
    "from sklearn.metrics import classification_report\n",
    "print(classification_report(y_test, y_pred))"
   ]
  },
  {
   "cell_type": "code",
   "execution_count": 183,
   "metadata": {},
   "outputs": [
    {
     "data": {
      "text/plain": [
       "0.7790053693760415"
      ]
     },
     "execution_count": 183,
     "metadata": {},
     "output_type": "execute_result"
    }
   ],
   "source": [
    "#Random Forest\n",
    "from sklearn.ensemble import RandomForestClassifier\n",
    "pipeline_RF = Pipeline([('StandardScaler', StandardScaler()), \n",
    "                    ('RandomForestClassifier', RandomForestClassifier())])\n",
    "\n",
    "pipeline_RF.fit(X_train,y_train)\n",
    "pipeline_RF.score(X_test, y_test)"
   ]
  },
  {
   "cell_type": "code",
   "execution_count": 186,
   "metadata": {},
   "outputs": [],
   "source": [
    "y_pred = pipeline_RF.predict(X_test)"
   ]
  },
  {
   "cell_type": "code",
   "execution_count": 187,
   "metadata": {},
   "outputs": [
    {
     "name": "stdout",
     "output_type": "stream",
     "text": [
      "77.90053693760414\n"
     ]
    },
    {
     "data": {
      "text/html": [
       "<div>\n",
       "<style scoped>\n",
       "    .dataframe tbody tr th:only-of-type {\n",
       "        vertical-align: middle;\n",
       "    }\n",
       "\n",
       "    .dataframe tbody tr th {\n",
       "        vertical-align: top;\n",
       "    }\n",
       "\n",
       "    .dataframe thead th {\n",
       "        text-align: right;\n",
       "    }\n",
       "</style>\n",
       "<table border=\"1\" class=\"dataframe\">\n",
       "  <thead>\n",
       "    <tr style=\"text-align: right;\">\n",
       "      <th></th>\n",
       "      <th>0</th>\n",
       "      <th>1</th>\n",
       "    </tr>\n",
       "  </thead>\n",
       "  <tbody>\n",
       "    <tr>\n",
       "      <th>0</th>\n",
       "      <td>253534</td>\n",
       "      <td>84029</td>\n",
       "    </tr>\n",
       "    <tr>\n",
       "      <th>1</th>\n",
       "      <td>65170</td>\n",
       "      <td>272392</td>\n",
       "    </tr>\n",
       "  </tbody>\n",
       "</table>\n",
       "</div>"
      ],
      "text/plain": [
       "        0       1\n",
       "0  253534   84029\n",
       "1   65170  272392"
      ]
     },
     "execution_count": 187,
     "metadata": {},
     "output_type": "execute_result"
    }
   ],
   "source": [
    "from sklearn.metrics import accuracy_score\n",
    "from sklearn.metrics import classification_report\n",
    "from sklearn.metrics import confusion_matrix\n",
    "import matplotlib.pyplot as plt\n",
    "acc = accuracy_score(y_test, y_pred) * 100\n",
    "print(acc)\n",
    "conf_matrix = confusion_matrix(y_test, y_pred)\n",
    "class_names = np.unique(y_test)\n",
    "df_cm = pd.DataFrame(conf_matrix, index=class_names, columns=class_names )\n",
    "df_cm"
   ]
  },
  {
   "cell_type": "code",
   "execution_count": 199,
   "metadata": {},
   "outputs": [
    {
     "data": {
      "image/png": "[encoded data removed]",
      "text/plain": [
       "<Figure size 360x360 with 1 Axes>"
      ]
     },
     "metadata": {
      "needs_background": "light"
     },
     "output_type": "display_data"
    }
   ],
   "source": [
    "# confusion matrix\n",
    "conf_matrix = confusion_matrix(y_test, y_pred)\n",
    "class_names = [0,1]\n",
    "\n",
    "df_cm = pd.DataFrame(conf_matrix, index=class_names, columns=class_names )\n",
    "\n",
    "import seaborn as sns\n",
    "plt.figure(figsize=(5,5))\n",
    "hm = sns.heatmap(df_cm, cbar=False, annot=True, square=True, fmt='d', annot_kws={'size': 20}, yticklabels=df_cm.columns, xticklabels=df_cm.columns)\n",
    "\n",
    "hm.yaxis.set_ticklabels(hm.yaxis.get_ticklabels(), rotation=0, ha='right', fontsize=20)\n",
    "hm.xaxis.set_ticklabels(hm.xaxis.get_ticklabels(), rotation=0, ha='right', fontsize=20)\n",
    "plt.ylabel('True label',fontsize=20)\n",
    "plt.xlabel('Predicted label',fontsize=20)\n",
    "plt.title(\"Confusion Matrix Random Forest Model\")\n",
    "# plt.tight_layout()\n",
    "plt.show()"
   ]
  },
  {
   "cell_type": "code",
   "execution_count": 188,
   "metadata": {},
   "outputs": [
    {
     "name": "stdout",
     "output_type": "stream",
     "text": [
      "distanceFromDPinMiles_SQR     0.373256\n",
      "distanceFromDPinMiles         0.371512\n",
      "average_minutes_per_hh_SQR    0.112533\n",
      "average_minutes_per_hh        0.112519\n",
      "size_of_hh                    0.006691\n",
      "size_of_hh_SQR                0.006428\n",
      "date_Tuesday                  0.003676\n",
      "date_Saturday                 0.003149\n",
      "date_Sunday                   0.003122\n",
      "date_Wednesday                0.002589\n",
      "date_Monday                   0.002360\n",
      "date_Thursday                 0.002165\n",
      "dtype: float64\n"
     ]
    },
    {
     "data": {
      "image/png": "[encoded data removed]",
      "text/plain": [
       "<Figure size 1080x864 with 1 Axes>"
      ]
     },
     "metadata": {
      "needs_background": "light"
     },
     "output_type": "display_data"
    }
   ],
   "source": [
    "#Feature Importance\n",
    "\n",
    "import matplotlib.pyplot as plt\n",
    "\n",
    "# Convert the importances into one-dimensional 1darray with corresponding X_train column names as axis labels\n",
    "f_importances = pd.Series(pipeline_RF.named_steps['RandomForestClassifier'].feature_importances_, X_Columns)\n",
    "\n",
    "# Sort the array in descending order of the importances\n",
    "f_importances = f_importances.sort_values(ascending=False)\n",
    "print(f_importances)\n",
    "# Draw the bar Plot from f_importances \n",
    "f_importances.plot(x='Features', y='Importance', kind='bar', figsize=(15,12), rot=90, fontsize=30)\n",
    "\n",
    "# Show the plot\n",
    "plt.tight_layout()\n",
    "plt.show()"
   ]
  },
  {
   "cell_type": "code",
   "execution_count": 200,
   "metadata": {},
   "outputs": [
    {
     "name": "stdout",
     "output_type": "stream",
     "text": [
      "77.90053693760414\n",
      "ROC_AUC :  77.9005410751726\n"
     ]
    },
    {
     "data": {
      "image/png": "[encoded data removed]",
      "text/plain": [
       "<Figure size 432x288 with 1 Axes>"
      ]
     },
     "metadata": {
      "needs_background": "light"
     },
     "output_type": "display_data"
    }
   ],
   "source": [
    "#AUC and ROC \n",
    "\n",
    "from sklearn.metrics import roc_auc_score\n",
    "from sklearn.metrics import roc_curve, auc\n",
    "from sklearn.metrics import accuracy_score\n",
    "\n",
    "print(accuracy_score(y_test, y_pred)* 100)\n",
    "print(\"ROC_AUC : \", roc_auc_score(y_test, y_pred) * 100)\n",
    "\n",
    "# ROC Graph\n",
    "y_test_pred_score = pipeline_RF.predict_proba(X_test)\n",
    "preds = y_pred#y_test_pred_score[:,1]\n",
    "fpr, tpr, threshold = metrics.roc_curve(y_test, preds)\n",
    "roc_auc = metrics.auc(fpr, tpr)\n",
    "\n",
    "# method I: plt\n",
    "import matplotlib.pyplot as plt\n",
    "plt.title('Receiver Operating Characteristic')\n",
    "plt.plot(fpr, tpr, 'b', label = 'AUC = %0.2f' % roc_auc)\n",
    "plt.legend(loc = 'lower right')\n",
    "plt.plot([0, 1], [0, 1],'r--')\n",
    "plt.xlim([0, 1])\n",
    "plt.ylim([0, 1])\n",
    "plt.ylabel('True Positive Rate')\n",
    "plt.xlabel('False Positive Rate')\n",
    "plt.show()"
   ]
  },
  {
   "cell_type": "code",
   "execution_count": 201,
   "metadata": {},
   "outputs": [
    {
     "name": "stdout",
     "output_type": "stream",
     "text": [
      "              precision    recall  f1-score   support\n",
      "\n",
      "           0       0.80      0.75      0.77    337563\n",
      "           1       0.76      0.81      0.79    337562\n",
      "\n",
      "    accuracy                           0.78    675125\n",
      "   macro avg       0.78      0.78      0.78    675125\n",
      "weighted avg       0.78      0.78      0.78    675125\n",
      "\n"
     ]
    }
   ],
   "source": [
    "from sklearn.metrics import classification_report\n",
    "print(classification_report(y_test, y_pred))"
   ]
  },
  {
   "cell_type": "code",
   "execution_count": 256,
   "metadata": {},
   "outputs": [
    {
     "name": "stdout",
     "output_type": "stream",
     "text": [
      "Accuracy of Gradient Boosting classifier on test set: 0.62\n"
     ]
    }
   ],
   "source": [
    "#Gradient Boosting\n",
    "from sklearn.ensemble import GradientBoostingClassifier\n",
    "from sklearn.pipeline import Pipeline\n",
    "pipeline_GBC = Pipeline([('StandardScaler', StandardScaler()), \n",
    "                    ('GradientBoostingClassifier', GradientBoostingClassifier())])\n",
    "\n",
    "pipeline_GBC.fit(X_train,y_train)\n",
    "print('Accuracy of Gradient Boosting classifier on test set: {:.2f}'.format(pipeline_GBC.score(X_test, y_test)))"
   ]
  },
  {
   "cell_type": "code",
   "execution_count": 210,
   "metadata": {},
   "outputs": [
    {
     "name": "stdout",
     "output_type": "stream",
     "text": [
      "Accuracy of XGBoost classifier on test set: 0.62\n"
     ]
    }
   ],
   "source": [
    "#XG Boost\n",
    "from xgboost import XGBClassifier\n",
    "from sklearn.pipeline import Pipeline\n",
    "pipeline_XGB = Pipeline([('StandardScaler', StandardScaler()), \n",
    "                    ('XGBClassifier', XGBClassifier())])\n",
    "\n",
    "pipeline_XGB.fit(X_train,y_train)\n",
    "print('Accuracy of XGBoost classifier on test set: {:.2f}'.format(pipeline_XGB.score(X_test, y_test)))"
   ]
  },
  {
   "cell_type": "code",
   "execution_count": 211,
   "metadata": {},
   "outputs": [],
   "source": [
    "y_pred = pipeline_XGB.predict(X_test)"
   ]
  },
  {
   "cell_type": "code",
   "execution_count": 212,
   "metadata": {},
   "outputs": [
    {
     "name": "stdout",
     "output_type": "stream",
     "text": [
      "              precision    recall  f1-score   support\n",
      "\n",
      "           0       0.60      0.70      0.65    337563\n",
      "           1       0.64      0.54      0.59    337562\n",
      "\n",
      "    accuracy                           0.62    675125\n",
      "   macro avg       0.62      0.62      0.62    675125\n",
      "weighted avg       0.62      0.62      0.62    675125\n",
      "\n"
     ]
    }
   ],
   "source": [
    "from sklearn.metrics import classification_report\n",
    "print(classification_report(y_test, y_pred))"
   ]
  },
  {
   "cell_type": "code",
   "execution_count": 213,
   "metadata": {},
   "outputs": [
    {
     "name": "stdout",
     "output_type": "stream",
     "text": [
      "61.91475652656916\n",
      "ROC_AUC :  61.914744653791395\n"
     ]
    },
    {
     "data": {
      "image/png": "[encoded data removed]",
      "text/plain": [
       "<Figure size 432x288 with 1 Axes>"
      ]
     },
     "metadata": {
      "needs_background": "light"
     },
     "output_type": "display_data"
    }
   ],
   "source": [
    "from sklearn.metrics import roc_auc_score\n",
    "from sklearn.metrics import roc_curve, auc\n",
    "from sklearn.metrics import accuracy_score\n",
    "\n",
    "print(accuracy_score(y_test, y_pred)* 100)\n",
    "print(\"ROC_AUC : \", roc_auc_score(y_test, y_pred) * 100)\n",
    "\n",
    "# ROC Graph\n",
    "y_test_pred_score = pipeline_RF.predict_proba(X_test)\n",
    "preds = y_pred#y_test_pred_score[:,1]\n",
    "fpr, tpr, threshold = metrics.roc_curve(y_test, preds)\n",
    "roc_auc = metrics.auc(fpr, tpr)\n",
    "\n",
    "# method I: plt\n",
    "import matplotlib.pyplot as plt\n",
    "plt.title('Receiver Operating Characteristic')\n",
    "plt.plot(fpr, tpr, 'b', label = 'AUC = %0.2f' % roc_auc)\n",
    "plt.legend(loc = 'lower right')\n",
    "plt.plot([0, 1], [0, 1],'r--')\n",
    "plt.xlim([0, 1])\n",
    "plt.ylim([0, 1])\n",
    "plt.ylabel('True Positive Rate')\n",
    "plt.xlabel('False Positive Rate')\n",
    "plt.show()"
   ]
  },
  {
   "cell_type": "code",
   "execution_count": null,
   "metadata": {},
   "outputs": [],
   "source": []
  },
  {
   "cell_type": "code",
   "execution_count": 50,
   "metadata": {},
   "outputs": [
    {
     "name": "stderr",
     "output_type": "stream",
     "text": [
      "/opt/anaconda3/lib/python3.7/site-packages/sklearn/model_selection/_split.py:296: FutureWarning: Setting a random_state has no effect since shuffle is False. This will raise an error in 0.24. You should leave random_state to its default (None), or set shuffle=True.\n",
      "  FutureWarning\n"
     ]
    },
    {
     "data": {
      "text/plain": [
       "0.7756970314309635"
      ]
     },
     "execution_count": 50,
     "metadata": {},
     "output_type": "execute_result"
    }
   ],
   "source": [
    "#Random Forest with K fold cross validation\n",
    "from sklearn.pipeline import Pipeline\n",
    "from sklearn.preprocessing import StandardScaler\n",
    "from sklearn.ensemble import RandomForestClassifier\n",
    "from sklearn.model_selection import cross_val_score\n",
    "from sklearn.model_selection import KFold\n",
    "\n",
    "# Create the pipeline with StandardScaler and RandomForestClassifier\n",
    "pipe_rf = Pipeline([('StandardScaler', StandardScaler()), \n",
    "                    ('RandomForestClassifier', RandomForestClassifier())])\n",
    "\n",
    "pipe_rf.fit(X_train, y_train)\n",
    "# Get the list of accuracy obtained by cross_val_score (using KFold, and tha above n_splits and random_state)\n",
    "rf_score = cross_val_score(pipe_rf, X_train, y_train, cv=KFold(n_splits=10, random_state=123))\n",
    "# Get the average accuracy of each model obtained by cross validation\n",
    "rf_score.mean()"
   ]
  },
  {
   "cell_type": "code",
   "execution_count": 51,
   "metadata": {},
   "outputs": [],
   "source": [
    "#Prediction\n",
    "y_pred = pipe_rf.predict(X_test)"
   ]
  },
  {
   "cell_type": "code",
   "execution_count": 52,
   "metadata": {},
   "outputs": [
    {
     "name": "stdout",
     "output_type": "stream",
     "text": [
      "77.89313090168487\n"
     ]
    },
    {
     "data": {
      "text/html": [
       "<div>\n",
       "<style scoped>\n",
       "    .dataframe tbody tr th:only-of-type {\n",
       "        vertical-align: middle;\n",
       "    }\n",
       "\n",
       "    .dataframe tbody tr th {\n",
       "        vertical-align: top;\n",
       "    }\n",
       "\n",
       "    .dataframe thead th {\n",
       "        text-align: right;\n",
       "    }\n",
       "</style>\n",
       "<table border=\"1\" class=\"dataframe\">\n",
       "  <thead>\n",
       "    <tr style=\"text-align: right;\">\n",
       "      <th></th>\n",
       "      <th>0</th>\n",
       "      <th>1</th>\n",
       "    </tr>\n",
       "  </thead>\n",
       "  <tbody>\n",
       "    <tr>\n",
       "      <th>0</th>\n",
       "      <td>253421</td>\n",
       "      <td>84142</td>\n",
       "    </tr>\n",
       "    <tr>\n",
       "      <th>1</th>\n",
       "      <td>65107</td>\n",
       "      <td>272455</td>\n",
       "    </tr>\n",
       "  </tbody>\n",
       "</table>\n",
       "</div>"
      ],
      "text/plain": [
       "        0       1\n",
       "0  253421   84142\n",
       "1   65107  272455"
      ]
     },
     "execution_count": 52,
     "metadata": {},
     "output_type": "execute_result"
    }
   ],
   "source": [
    "#Accuracy and Confusion Matrix\n",
    "from sklearn.metrics import accuracy_score\n",
    "from sklearn.metrics import classification_report\n",
    "from sklearn.metrics import confusion_matrix\n",
    "import matplotlib.pyplot as plt\n",
    "acc = accuracy_score(y_test, y_pred) * 100\n",
    "print(acc)\n",
    "conf_matrix = confusion_matrix(y_test, y_pred)\n",
    "class_names = np.unique(y_test)\n",
    "df_cm = pd.DataFrame(conf_matrix, index=class_names, columns=class_names )\n",
    "df_cm"
   ]
  },
  {
   "cell_type": "code",
   "execution_count": 53,
   "metadata": {},
   "outputs": [
    {
     "data": {
      "image/png": "[encoded data removed]",
      "text/plain": [
       "<Figure size 1152x648 with 1 Axes>"
      ]
     },
     "metadata": {
      "needs_background": "light"
     },
     "output_type": "display_data"
    }
   ],
   "source": [
    "#Feature importance\n",
    "import matplotlib.pyplot as plt\n",
    "\n",
    "# Convert the importances into one-dimensional 1darray with corresponding df column names as axis labels\n",
    "f_importances = pd.Series(pipe_rf.named_steps['RandomForestClassifier'].feature_importances_, X_Columns)\n",
    "\n",
    "# Sort the array in descending order of the importances\n",
    "f_importances = f_importances.sort_values(ascending=False)\n",
    "\n",
    "# Draw the bar Plot from f_importances \n",
    "f_importances.plot(x='Features', y='Importance', kind='bar', figsize=(16,9), rot=45, fontsize=9)\n",
    "\n",
    "# Show the plot\n",
    "plt.tight_layout()\n",
    "plt.show()"
   ]
  }
 ],
 "metadata": {
  "kernelspec": {
   "display_name": "Python 3",
   "language": "python",
   "name": "python3"
  },
  "language_info": {
   "codemirror_mode": {
    "name": "ipython",
    "version": 3
   },
   "file_extension": ".py",
   "mimetype": "text/x-python",
   "name": "python",
   "nbconvert_exporter": "python",
   "pygments_lexer": "ipython3",
   "version": "3.7.6"
  }
 },
 "nbformat": 4,
 "nbformat_minor": 4
}
